{
 "cells": [
  {
   "cell_type": "markdown",
   "metadata": {},
   "source": [
    "# Text Compression: Semantic Approach"
   ]
  },
  {
   "cell_type": "markdown",
   "metadata": {},
   "source": [
    "- **Created by Andrés Segura Tinoco**  \n",
    "- **Created on August 20, 2019**"
   ]
  },
  {
   "cell_type": "markdown",
   "metadata": {},
   "source": [
    "**Natural language processing (NLP):** is a discipline where computer science, artificial intelligence and cognitive logic are intercepted, with the objective that machines can read and understand our language for decision making <a href=\"#link_one\">[1]</a>."
   ]
  },
  {
   "cell_type": "code",
   "execution_count": 1,
   "metadata": {},
   "outputs": [],
   "source": [
    "# Load Python libraries\n",
    "import io\n",
    "import os\n",
    "import pandas as pd\n",
    "from collections import Counter"
   ]
  },
  {
   "cell_type": "code",
   "execution_count": 2,
   "metadata": {},
   "outputs": [],
   "source": [
    "# Load Plot libraries\n",
    "import seaborn as sns\n",
    "import matplotlib.pyplot as plt\n",
    "%matplotlib inline\n",
    "%config InlineBackend.figure_format = 'retina'"
   ]
  },
  {
   "cell_type": "markdown",
   "metadata": {},
   "source": [
    "## 1. Semantic Compression (SC)\n",
    "Below, the proposed procedure with a **NLP** approach to text preprocessing:\n",
    "- Read the plain text file in unicode format\n",
    "- Find the heaviest words: (frequency * length)\n",
    "- Find the unused symbols from the possible bytes [0, 255]\n",
    "- Apply semantic compression: replace heavier words with unused symbols\n",
    "- Save compressed file with semantic table attached\n",
    "- Show the new byte distribution"
   ]
  },
  {
   "cell_type": "markdown",
   "metadata": {},
   "source": [
    "### Step 1 - Read the plain text file"
   ]
  },
  {
   "cell_type": "code",
   "execution_count": 3,
   "metadata": {},
   "outputs": [],
   "source": [
    "# Set local file encoding\n",
    "file_enconding = 'utf8'"
   ]
  },
  {
   "cell_type": "code",
   "execution_count": 4,
   "metadata": {},
   "outputs": [],
   "source": [
    "# Util function to read a plain text file\n",
    "def read_text_file(file_path):\n",
    "    text = \"\"\n",
    "    \n",
    "    if os.path.isfile(file_path):\n",
    "        print('Read the following file:', file_path)\n",
    "        with io.open(file_path, 'r', encoding = file_enconding) as f:\n",
    "            text = f.read()\n",
    "    \n",
    "    return text"
   ]
  },
  {
   "cell_type": "code",
   "execution_count": 5,
   "metadata": {},
   "outputs": [],
   "source": [
    "# Util function to save a plain text file\n",
    "def save_text_file(file_path, text):\n",
    "    try:\n",
    "        with open(file_path, 'w', encoding = file_enconding) as f:\n",
    "            f.write(text)\n",
    "    except:\n",
    "        print(\"Error saving text file:\", file_path)\n",
    "        return False\n",
    "    \n",
    "    return True"
   ]
  },
  {
   "cell_type": "code",
   "execution_count": 6,
   "metadata": {},
   "outputs": [
    {
     "name": "stdout",
     "output_type": "stream",
     "text": [
      "Read the following file: ../data/text/book1-en.txt\n"
     ]
    }
   ],
   "source": [
    "# Loading target text book\n",
    "file_path = \"../data/text/book1-en.txt\"\n",
    "file_text1 = read_text_file(file_path)"
   ]
  },
  {
   "cell_type": "code",
   "execution_count": 7,
   "metadata": {},
   "outputs": [
    {
     "name": "stdout",
     "output_type": "stream",
     "text": [
      "Original file size: 1227.64 KB\n"
     ]
    }
   ],
   "source": [
    "# Weight of the original file\n",
    "file_size = os.path.getsize(file_path)\n",
    "print('Original file size:', round(file_size / 1024, 2), 'KB')"
   ]
  },
  {
   "cell_type": "markdown",
   "metadata": {},
   "source": [
    "### Step 2 - Find the Heaviest Words"
   ]
  },
  {
   "cell_type": "code",
   "execution_count": 8,
   "metadata": {},
   "outputs": [],
   "source": [
    "# Cleaing the plain text\n",
    "stop_words = ['\\n', '. ', ', ', '; ', '! ', '? ']\n",
    "clean_text = file_text1\n",
    "for sword in stop_words:\n",
    "    clean_text = clean_text.replace(sword, ' ')"
   ]
  },
  {
   "cell_type": "markdown",
   "metadata": {},
   "source": [
    "**Note:** Experimentally it was found that passing the plain-text through a data quality process adds approximately 1% more data compression."
   ]
  },
  {
   "cell_type": "code",
   "execution_count": 9,
   "metadata": {},
   "outputs": [
    {
     "name": "stdout",
     "output_type": "stream",
     "text": [
      "Number of words: 216910\n"
     ]
    }
   ],
   "source": [
    "# Tokenize text in a words list\n",
    "word_list = clean_text.split(' ')\n",
    "print('Number of words:', len(word_list))"
   ]
  },
  {
   "cell_type": "code",
   "execution_count": 10,
   "metadata": {
    "scrolled": false
   },
   "outputs": [
    {
     "name": "stdout",
     "output_type": "stream",
     "text": [
      "['\\ufeff', 'The', 'Project', 'Gutenberg', 'EBook', 'of', 'Moby', 'Dick', 'or', 'The', 'Whale', 'by', 'Herman', 'Melville', '', 'This', 'eBook', 'is', 'for', 'the', 'use', 'of', 'anyone', 'anywhere', 'at', 'no', 'cost', 'and', 'with', 'almost', 'no', 'restrictions', 'whatsoever', '', 'You', 'may', 'copy', 'it', 'give', 'it', 'away', 'or', 're-use', 'it', 'under', 'the', 'terms', 'of', 'the', 'Project', 'Gutenberg', 'License', 'included', 'with', 'this', 'eBook', 'or', 'online', 'at', 'www.gutenberg.org', '', '', 'Title:', 'Moby', 'Dick', 'or', 'The', 'Whale', '', 'Author:', 'Herman', 'Melville', '', 'Release', 'Date:', 'December', '25', '2008', '[EBook', '#2701]', 'Last', 'Updated:', 'December', '3', '2017', '', 'Language:', 'English', '', 'Character', 'set', 'encoding:', 'UTF-8', '', '***', 'START', 'OF', 'THIS', 'PROJECT', 'GUTENBERG']\n"
     ]
    }
   ],
   "source": [
    "# Showing first 100 words\n",
    "print(word_list[:100])"
   ]
  },
  {
   "cell_type": "code",
   "execution_count": 11,
   "metadata": {},
   "outputs": [
    {
     "data": {
      "text/html": [
       "<div>\n",
       "<style scoped>\n",
       "    .dataframe tbody tr th:only-of-type {\n",
       "        vertical-align: middle;\n",
       "    }\n",
       "\n",
       "    .dataframe tbody tr th {\n",
       "        vertical-align: top;\n",
       "    }\n",
       "\n",
       "    .dataframe thead th {\n",
       "        text-align: right;\n",
       "    }\n",
       "</style>\n",
       "<table border=\"1\" class=\"dataframe\">\n",
       "  <thead>\n",
       "    <tr style=\"text-align: right;\">\n",
       "      <th></th>\n",
       "      <th>word</th>\n",
       "      <th>quantity</th>\n",
       "      <th>length</th>\n",
       "      <th>weigth</th>\n",
       "    </tr>\n",
       "  </thead>\n",
       "  <tbody>\n",
       "    <tr>\n",
       "      <th>0</th>\n",
       "      <td>the</td>\n",
       "      <td>13697</td>\n",
       "      <td>3</td>\n",
       "      <td>41091</td>\n",
       "    </tr>\n",
       "    <tr>\n",
       "      <th>2</th>\n",
       "      <td>and</td>\n",
       "      <td>6003</td>\n",
       "      <td>3</td>\n",
       "      <td>18009</td>\n",
       "    </tr>\n",
       "    <tr>\n",
       "      <th>1</th>\n",
       "      <td>of</td>\n",
       "      <td>6564</td>\n",
       "      <td>2</td>\n",
       "      <td>13128</td>\n",
       "    </tr>\n",
       "    <tr>\n",
       "      <th>7</th>\n",
       "      <td>that</td>\n",
       "      <td>2828</td>\n",
       "      <td>4</td>\n",
       "      <td>11312</td>\n",
       "    </tr>\n",
       "    <tr>\n",
       "      <th>3</th>\n",
       "      <td>to</td>\n",
       "      <td>4509</td>\n",
       "      <td>2</td>\n",
       "      <td>9018</td>\n",
       "    </tr>\n",
       "    <tr>\n",
       "      <th>6</th>\n",
       "      <td>in</td>\n",
       "      <td>3904</td>\n",
       "      <td>2</td>\n",
       "      <td>7808</td>\n",
       "    </tr>\n",
       "    <tr>\n",
       "      <th>8</th>\n",
       "      <td>his</td>\n",
       "      <td>2457</td>\n",
       "      <td>3</td>\n",
       "      <td>7371</td>\n",
       "    </tr>\n",
       "    <tr>\n",
       "      <th>12</th>\n",
       "      <td>with</td>\n",
       "      <td>1663</td>\n",
       "      <td>4</td>\n",
       "      <td>6652</td>\n",
       "    </tr>\n",
       "    <tr>\n",
       "      <th>18</th>\n",
       "      <td>this</td>\n",
       "      <td>1232</td>\n",
       "      <td>4</td>\n",
       "      <td>4928</td>\n",
       "    </tr>\n",
       "    <tr>\n",
       "      <th>13</th>\n",
       "      <td>was</td>\n",
       "      <td>1623</td>\n",
       "      <td>3</td>\n",
       "      <td>4869</td>\n",
       "    </tr>\n",
       "  </tbody>\n",
       "</table>\n",
       "</div>"
      ],
      "text/plain": [
       "    word  quantity  length  weigth\n",
       "0    the     13697       3   41091\n",
       "2    and      6003       3   18009\n",
       "1     of      6564       2   13128\n",
       "7   that      2828       4   11312\n",
       "3     to      4509       2    9018\n",
       "6     in      3904       2    7808\n",
       "8    his      2457       3    7371\n",
       "12  with      1663       4    6652\n",
       "18  this      1232       4    4928\n",
       "13   was      1623       3    4869"
      ]
     },
     "execution_count": 11,
     "metadata": {},
     "output_type": "execute_result"
    }
   ],
   "source": [
    "# Get the most common words in the document\n",
    "n_words = Counter(word_list).most_common(1000)\n",
    "df_words = pd.DataFrame.from_records(n_words, columns = ['word', 'quantity'])\n",
    "df_words['length'] = df_words.word.str.len()\n",
    "df_words['weigth'] = df_words.quantity * df_words.length\n",
    "df_words = df_words.sort_values(by=['weigth'], ascending=False)\n",
    "df_words.head(10)"
   ]
  },
  {
   "cell_type": "markdown",
   "metadata": {},
   "source": [
    "Show the 50 Most Common Words in document."
   ]
  },
  {
   "cell_type": "code",
   "execution_count": 12,
   "metadata": {},
   "outputs": [
    {
     "data": {
      "image/png": "[encoded data removed]",
      "text/plain": [
       "<Figure size 1296x432 with 1 Axes>"
      ]
     },
     "metadata": {
      "image/png": {
       "height": 386,
       "width": 1073
      },
      "needs_background": "light"
     },
     "output_type": "display_data"
    }
   ],
   "source": [
    "# Plot the most common words in the document\n",
    "fig = plt.figure(figsize = (18, 6))\n",
    "sns.barplot(x = 'word', y = 'weigth', data = df_words[0:50])\n",
    "plt.title('The 50 Most Common Words in document')\n",
    "plt.show()"
   ]
  },
  {
   "cell_type": "code",
   "execution_count": 13,
   "metadata": {},
   "outputs": [
    {
     "data": {
      "image/png": "[encoded data removed]",
      "text/plain": [
       "<Figure size 1008x432 with 1 Axes>"
      ]
     },
     "metadata": {
      "image/png": {
       "height": 386,
       "width": 837
      },
      "needs_background": "light"
     },
     "output_type": "display_data"
    }
   ],
   "source": [
    "# Plot Histogram of the number of Words by Sizes\n",
    "hist_bins = len(df_words[\"length\"].unique())\n",
    "fig = plt.figure(figsize = (14, 6))\n",
    "plt.hist(df_words.length, bins = hist_bins, alpha = 0.9, label = 'Word Size')\n",
    "plt.grid(True, alpha = 0.8)\n",
    "plt.title('Histogram of the number of Words by Sizes')\n",
    "plt.xlabel('Size', fontsize = 10)\n",
    "plt.ylabel('Number', fontsize = 10)\n",
    "plt.legend(loc='upper right')\n",
    "plt.show()"
   ]
  },
  {
   "cell_type": "markdown",
   "metadata": {},
   "source": [
    "### Step 3 - Find the Unused Symbols\n",
    "Once the words to be replaced are identified, the unused symbols must be found in the alphabet, to be used as substituents."
   ]
  },
  {
   "cell_type": "code",
   "execution_count": 14,
   "metadata": {},
   "outputs": [],
   "source": [
    "# Read file in low level (Bytes)\n",
    "def get_file_bytes(file_path):\n",
    "    with open(file_path, 'rb') as f:\n",
    "        return bytearray(f.read());\n",
    "    return None;"
   ]
  },
  {
   "cell_type": "code",
   "execution_count": 15,
   "metadata": {},
   "outputs": [],
   "source": [
    "# Loading target text book\n",
    "file_byte_list = get_file_bytes(file_path)"
   ]
  },
  {
   "cell_type": "code",
   "execution_count": 16,
   "metadata": {},
   "outputs": [
    {
     "name": "stdout",
     "output_type": "stream",
     "text": [
      "Unique symbols used: 110\n"
     ]
    }
   ],
   "source": [
    "# Calculate code frequency\n",
    "term_freq = Counter(file_byte_list)\n",
    "n = len(term_freq)\n",
    "print('Unique symbols used:', n)"
   ]
  },
  {
   "cell_type": "code",
   "execution_count": 17,
   "metadata": {},
   "outputs": [],
   "source": [
    "# Normalize term frequency\n",
    "max_symbols = 256\n",
    "total = sum(term_freq.values())\n",
    "\n",
    "for ix in range(max_symbols):\n",
    "    if ix in term_freq:\n",
    "        term_freq[ix] = term_freq[ix] / total\n",
    "    else:\n",
    "        term_freq[ix] = 0"
   ]
  },
  {
   "cell_type": "code",
   "execution_count": 18,
   "metadata": {
    "scrolled": true
   },
   "outputs": [
    {
     "data": {
      "text/html": [
       "<div>\n",
       "<style scoped>\n",
       "    .dataframe tbody tr th:only-of-type {\n",
       "        vertical-align: middle;\n",
       "    }\n",
       "\n",
       "    .dataframe tbody tr th {\n",
       "        vertical-align: top;\n",
       "    }\n",
       "\n",
       "    .dataframe thead th {\n",
       "        text-align: right;\n",
       "    }\n",
       "</style>\n",
       "<table border=\"1\" class=\"dataframe\">\n",
       "  <thead>\n",
       "    <tr style=\"text-align: right;\">\n",
       "      <th></th>\n",
       "      <th>byte</th>\n",
       "      <th>symbol</th>\n",
       "      <th>frequency</th>\n",
       "    </tr>\n",
       "  </thead>\n",
       "  <tbody>\n",
       "    <tr>\n",
       "      <th>0</th>\n",
       "      <td>32</td>\n",
       "      <td></td>\n",
       "      <td>0.155075</td>\n",
       "    </tr>\n",
       "    <tr>\n",
       "      <th>1</th>\n",
       "      <td>101</td>\n",
       "      <td>e</td>\n",
       "      <td>0.092954</td>\n",
       "    </tr>\n",
       "    <tr>\n",
       "      <th>2</th>\n",
       "      <td>116</td>\n",
       "      <td>t</td>\n",
       "      <td>0.068523</td>\n",
       "    </tr>\n",
       "    <tr>\n",
       "      <th>3</th>\n",
       "      <td>97</td>\n",
       "      <td>a</td>\n",
       "      <td>0.060395</td>\n",
       "    </tr>\n",
       "    <tr>\n",
       "      <th>4</th>\n",
       "      <td>111</td>\n",
       "      <td>o</td>\n",
       "      <td>0.054837</td>\n",
       "    </tr>\n",
       "    <tr>\n",
       "      <th>5</th>\n",
       "      <td>110</td>\n",
       "      <td>n</td>\n",
       "      <td>0.051702</td>\n",
       "    </tr>\n",
       "    <tr>\n",
       "      <th>6</th>\n",
       "      <td>115</td>\n",
       "      <td>s</td>\n",
       "      <td>0.049752</td>\n",
       "    </tr>\n",
       "    <tr>\n",
       "      <th>7</th>\n",
       "      <td>105</td>\n",
       "      <td>i</td>\n",
       "      <td>0.049692</td>\n",
       "    </tr>\n",
       "    <tr>\n",
       "      <th>8</th>\n",
       "      <td>104</td>\n",
       "      <td>h</td>\n",
       "      <td>0.049322</td>\n",
       "    </tr>\n",
       "    <tr>\n",
       "      <th>9</th>\n",
       "      <td>114</td>\n",
       "      <td>r</td>\n",
       "      <td>0.041215</td>\n",
       "    </tr>\n",
       "  </tbody>\n",
       "</table>\n",
       "</div>"
      ],
      "text/plain": [
       "   byte symbol  frequency\n",
       "0    32          0.155075\n",
       "1   101      e   0.092954\n",
       "2   116      t   0.068523\n",
       "3    97      a   0.060395\n",
       "4   111      o   0.054837\n",
       "5   110      n   0.051702\n",
       "6   115      s   0.049752\n",
       "7   105      i   0.049692\n",
       "8   104      h   0.049322\n",
       "9   114      r   0.041215"
      ]
     },
     "execution_count": 18,
     "metadata": {},
     "output_type": "execute_result"
    }
   ],
   "source": [
    "# Create dataframe: unused byte list\n",
    "df_ubytes = pd.DataFrame.from_records(term_freq.most_common(max_symbols), columns = ['byte', 'frequency'])\n",
    "df_ubytes['symbol'] = [chr(b) for b in df_ubytes.byte]\n",
    "df_ubytes = df_ubytes[['byte', 'symbol', 'frequency']]\n",
    "df_ubytes.head(10)"
   ]
  },
  {
   "cell_type": "code",
   "execution_count": 19,
   "metadata": {},
   "outputs": [],
   "source": [
    "# Create pretty x axis labels\n",
    "def get_x_labels():\n",
    "    x_labels = []\n",
    "    for ix in range(max_symbols):\n",
    "        if ix % 5 == 0:\n",
    "            x_labels.append(str(ix))\n",
    "        else:\n",
    "            x_labels.append('')\n",
    "    return x_labels"
   ]
  },
  {
   "cell_type": "code",
   "execution_count": 20,
   "metadata": {},
   "outputs": [
    {
     "data": {
      "image/png": "[encoded data removed]",
      "text/plain": [
       "<Figure size 1296x432 with 1 Axes>"
      ]
     },
     "metadata": {
      "image/png": {
       "height": 397,
       "width": 1069
      },
      "needs_background": "light"
     },
     "output_type": "display_data"
    }
   ],
   "source": [
    "# Probability of each symbol by default\n",
    "p_x = 1 / max_symbols\n",
    "\n",
    "# Plot the frequency of the bytes in the file\n",
    "fig = plt.figure(figsize = (18, 6))\n",
    "ax = sns.barplot(x = 'byte', y = 'frequency', data = df_ubytes.sort_values(by=['byte']), palette=(\"Blues_d\"))\n",
    "ax.set_xticklabels(labels = get_x_labels(), fontsize = 10, rotation = 50)\n",
    "plt.axhline(y = p_x, color = \"#8b0000\", linestyle = \"--\")\n",
    "plt.title('Bytes Frequency of the Original Text File')\n",
    "plt.show()"
   ]
  },
  {
   "cell_type": "code",
   "execution_count": 21,
   "metadata": {},
   "outputs": [
    {
     "data": {
      "text/plain": [
       "['£', 'â', 'æ', 'è', 'é']"
      ]
     },
     "execution_count": 21,
     "metadata": {},
     "output_type": "execute_result"
    }
   ],
   "source": [
    "# Get locked symbols\n",
    "locked_symbols = []\n",
    "two_bytes_symb = [chr(c) for c in range(128, max_symbols)]\n",
    "\n",
    "for spe_sym in two_bytes_symb:\n",
    "    if spe_sym in file_text1:\n",
    "        locked_symbols.append(spe_sym)\n",
    "\n",
    "locked_symbols"
   ]
  },
  {
   "cell_type": "code",
   "execution_count": 22,
   "metadata": {},
   "outputs": [
    {
     "data": {
      "text/plain": [
       "143"
      ]
     },
     "execution_count": 22,
     "metadata": {},
     "output_type": "execute_result"
    }
   ],
   "source": [
    "# Save unused symbols\n",
    "unused_symbols = list(df_ubytes[df_ubytes['frequency'] == 0][\"byte\"])\n",
    "unused_symbols = list(set(unused_symbols) - set([ord(ls) for ls in locked_symbols]))\n",
    "len(unused_symbols)"
   ]
  },
  {
   "cell_type": "markdown",
   "metadata": {},
   "source": [
    "Now, we can replace the heaviest words with unused symbols in the file."
   ]
  },
  {
   "cell_type": "code",
   "execution_count": 23,
   "metadata": {},
   "outputs": [],
   "source": [
    "# Returns the semantic table with the new symbols to replace the heaviest words\n",
    "def get_semantic_table(df_words, unused_symbols):\n",
    "    new_symbols = dict()\n",
    "    n_symb_repleced = min(150, len(unused_symbols))\n",
    "    ix = 0\n",
    "\n",
    "    for index, row in df_words.iterrows():\n",
    "        if len(row['word']) > 1:\n",
    "            key = row['word']\n",
    "            value = int(unused_symbols[ix])\n",
    "            new_symbols[key] = value\n",
    "            ix += 1\n",
    "        \n",
    "        if ix == n_symb_repleced:\n",
    "            break\n",
    "    \n",
    "    return new_symbols"
   ]
  },
  {
   "cell_type": "code",
   "execution_count": 24,
   "metadata": {},
   "outputs": [
    {
     "name": "stdout",
     "output_type": "stream",
     "text": [
      "{'the': 0, 'and': 1, 'of': 2, 'that': 3, 'to': 4, 'in': 5, 'his': 6, 'with': 7, 'this': 8, 'was': 9, 'from': 11, 'all': 12, 'for': 14, 'it': 15, 'whale': 16, 'is': 17, 'not': 18, 'as': 19, 'but': 20, 'which': 21, 'there': 22, 'their': 23, 'he': 24, 'have': 25, 'him': 26, 'were': 27, 'one': 28, 'at': 29, 'you': 30, 'they': 31, 'some': 34, 'had': 37, 'by': 39, 'like': 43, 'then': 47, 'when': 60, 'upon': 61, 'would': 62, 'into': 64, 'be': 92, 'But': 94, 'on': 96, 'CHAPTER': 123, 'other': 124, 'more': 125, 'though': 126, 'these': 127, 'The': 129, 'now': 131, 'them': 133, 'so': 134, 'are': 135, 'before': 136, 'seemed': 137, 'been': 138, 'Ahab': 139, 'over': 140, 'through': 141, 'what': 142, 'Queequeg': 143, 'out': 144, 'about': 145, 'will': 150, 'those': 154, 'little': 155, 'still': 158, 'ship': 159, 'great': 160, 'only': 161, 'or': 164, 'whales': 165, 'down': 167, 'himself': 170, 'such': 171, 'Captain': 172, 'Starbuck': 173, 'old': 174, 'time': 175, 'very': 177, 'than': 178, 'after': 179, 'man': 180, 'round': 181, 'long': 182, 'me': 184, 'said': 185, 'again': 186, 'an': 188, 'three': 189, 'my': 190, 'must': 192, 'Whale': 193, 'almost': 196, 'its': 198, 'most': 199, 'every': 200, 'last': 201, 'Stubb': 202, 'should': 203, 'could': 204, 'while': 205, 'being': 208, 'without': 209, 'first': 210, 'sea': 211, 'something': 212, 'head': 213, 'thought': 214, 'And': 216, 'up': 217, 'your': 218, 'never': 219, 'her': 220, 'any': 221, 'no': 222, 'boat': 223, 'against': 224, 'here': 225, 'who': 227, 'might': 228, 'thing': 229, 'where': 231, 'thou': 234, 'yet': 235, 'much': 236, 'has': 237, 'same': 238, 'two': 240, 'if': 241, 'between': 242, 'among': 243, 'white': 244, 'water': 245, 'we': 246, 'ye': 247, 'things': 248, 'ever': 249, 'towards': 250, 'hand': 251, 'side': 252, 'way': 253, 'cried': 254, 'Pequod': 255}\n"
     ]
    }
   ],
   "source": [
    "# Show semantic table\n",
    "semantic_table = get_semantic_table(df_words, unused_symbols)\n",
    "print(semantic_table)"
   ]
  },
  {
   "cell_type": "markdown",
   "metadata": {},
   "source": [
    "### Step 4 - Apply Semantic Compression (SC)"
   ]
  },
  {
   "cell_type": "code",
   "execution_count": 25,
   "metadata": {},
   "outputs": [],
   "source": [
    "# Function that applies a semantic compression approach\n",
    "def compress_text(curr_text, codes, forward = True):\n",
    "    symbol_list = sorted([(len(k), k, v) for k, v in codes.items()], key = lambda x: int(x[0]), reverse = True)\n",
    "    new_text = curr_text\n",
    "\n",
    "    for l, key, value in symbol_list:\n",
    "        c_value = chr(value)\n",
    "        if forward:\n",
    "            new_text = new_text.replace(key, c_value)\n",
    "        else:\n",
    "            new_text = new_text.replace(c_value, key)\n",
    "    \n",
    "    return new_text"
   ]
  },
  {
   "cell_type": "code",
   "execution_count": 26,
   "metadata": {},
   "outputs": [],
   "source": [
    "# Compressiong text of the file\n",
    "file_text_comp = compress_text(file_text1, semantic_table)"
   ]
  },
  {
   "cell_type": "markdown",
   "metadata": {},
   "source": [
    "### Step 5 - Save Compressed File"
   ]
  },
  {
   "cell_type": "code",
   "execution_count": 27,
   "metadata": {},
   "outputs": [
    {
     "data": {
      "text/plain": [
       "True"
      ]
     },
     "execution_count": 27,
     "metadata": {},
     "output_type": "execute_result"
    }
   ],
   "source": [
    "file_path_comp = file_path.replace('.txt', '_comp.txt')\n",
    "save_text_file(file_path_comp, file_text_comp)"
   ]
  },
  {
   "cell_type": "code",
   "execution_count": 28,
   "metadata": {},
   "outputs": [
    {
     "name": "stdout",
     "output_type": "stream",
     "text": [
      "Compressed file size: 958.99 KB\n"
     ]
    }
   ],
   "source": [
    "# Weight of the compressed file\n",
    "file_size = os.path.getsize(file_path_comp)\n",
    "print('Compressed file size:', round(file_size / 1024, 2), 'KB')"
   ]
  },
  {
   "cell_type": "code",
   "execution_count": 29,
   "metadata": {},
   "outputs": [
    {
     "name": "stdout",
     "output_type": "stream",
     "text": [
      "Number of characters: 1219570\n"
     ]
    }
   ],
   "source": [
    "# Original file\n",
    "print('Number of characters:', len(file_text1))"
   ]
  },
  {
   "cell_type": "code",
   "execution_count": 30,
   "metadata": {},
   "outputs": [
    {
     "name": "stdout",
     "output_type": "stream",
     "text": [
      "Number of characters: 889494\n"
     ]
    }
   ],
   "source": [
    "# Compressed file\n",
    "print('Number of characters:', len(file_text_comp))"
   ]
  },
  {
   "cell_type": "code",
   "execution_count": 31,
   "metadata": {},
   "outputs": [
    {
     "name": "stdout",
     "output_type": "stream",
     "text": [
      "Compression Rate: 27.06 %\n"
     ]
    }
   ],
   "source": [
    "# Semantic compression percentage\n",
    "compress_rate =  (len(file_text1) - len(file_text_comp)) / len(file_text1)\n",
    "print('Compression Rate:', round(compress_rate * 100, 2), '%')"
   ]
  },
  {
   "cell_type": "markdown",
   "metadata": {},
   "source": [
    "Click in the following link to download the compressed text file:\n",
    "\n",
    "https://raw.githubusercontent.com/ansegura7/DataCompression/master/data/text/book1-en_comp.txt"
   ]
  },
  {
   "cell_type": "markdown",
   "metadata": {},
   "source": [
    "### Step 6 - Show new Byte Distribution"
   ]
  },
  {
   "cell_type": "code",
   "execution_count": 32,
   "metadata": {},
   "outputs": [],
   "source": [
    "# Loading target text book\n",
    "file_byte_list = get_file_bytes(file_path_comp)"
   ]
  },
  {
   "cell_type": "code",
   "execution_count": 33,
   "metadata": {},
   "outputs": [
    {
     "name": "stdout",
     "output_type": "stream",
     "text": [
      "Unique symbols used: 200\n"
     ]
    }
   ],
   "source": [
    "# Calculate code frequency\n",
    "term_freq = Counter(file_byte_list)\n",
    "n = len(term_freq)\n",
    "print('Unique symbols used:', n)"
   ]
  },
  {
   "cell_type": "code",
   "execution_count": 34,
   "metadata": {},
   "outputs": [],
   "source": [
    "# Normalize term frequency\n",
    "total = sum(term_freq.values())\n",
    "for ix in range(max_symbols):\n",
    "    if ix in term_freq:\n",
    "        term_freq[ix] = term_freq[ix] / total\n",
    "    else:\n",
    "        term_freq[ix] = 0"
   ]
  },
  {
   "cell_type": "code",
   "execution_count": 35,
   "metadata": {},
   "outputs": [
    {
     "data": {
      "text/html": [
       "<div>\n",
       "<style scoped>\n",
       "    .dataframe tbody tr th:only-of-type {\n",
       "        vertical-align: middle;\n",
       "    }\n",
       "\n",
       "    .dataframe tbody tr th {\n",
       "        vertical-align: top;\n",
       "    }\n",
       "\n",
       "    .dataframe thead th {\n",
       "        text-align: right;\n",
       "    }\n",
       "</style>\n",
       "<table border=\"1\" class=\"dataframe\">\n",
       "  <thead>\n",
       "    <tr style=\"text-align: right;\">\n",
       "      <th></th>\n",
       "      <th>byte</th>\n",
       "      <th>symbol</th>\n",
       "      <th>frequency</th>\n",
       "    </tr>\n",
       "  </thead>\n",
       "  <tbody>\n",
       "    <tr>\n",
       "      <th>0</th>\n",
       "      <td>32</td>\n",
       "      <td></td>\n",
       "      <td>0.198516</td>\n",
       "    </tr>\n",
       "    <tr>\n",
       "      <th>1</th>\n",
       "      <td>101</td>\n",
       "      <td>e</td>\n",
       "      <td>0.059533</td>\n",
       "    </tr>\n",
       "    <tr>\n",
       "      <th>2</th>\n",
       "      <td>115</td>\n",
       "      <td>s</td>\n",
       "      <td>0.038495</td>\n",
       "    </tr>\n",
       "    <tr>\n",
       "      <th>3</th>\n",
       "      <td>194</td>\n",
       "      <td>Â</td>\n",
       "      <td>0.034089</td>\n",
       "    </tr>\n",
       "    <tr>\n",
       "      <th>4</th>\n",
       "      <td>114</td>\n",
       "      <td>r</td>\n",
       "      <td>0.033947</td>\n",
       "    </tr>\n",
       "    <tr>\n",
       "      <th>5</th>\n",
       "      <td>97</td>\n",
       "      <td>a</td>\n",
       "      <td>0.032637</td>\n",
       "    </tr>\n",
       "    <tr>\n",
       "      <th>6</th>\n",
       "      <td>108</td>\n",
       "      <td>l</td>\n",
       "      <td>0.029093</td>\n",
       "    </tr>\n",
       "    <tr>\n",
       "      <th>7</th>\n",
       "      <td>116</td>\n",
       "      <td>t</td>\n",
       "      <td>0.027243</td>\n",
       "    </tr>\n",
       "    <tr>\n",
       "      <th>8</th>\n",
       "      <td>100</td>\n",
       "      <td>d</td>\n",
       "      <td>0.024705</td>\n",
       "    </tr>\n",
       "    <tr>\n",
       "      <th>9</th>\n",
       "      <td>13</td>\n",
       "      <td>\\r</td>\n",
       "      <td>0.022367</td>\n",
       "    </tr>\n",
       "  </tbody>\n",
       "</table>\n",
       "</div>"
      ],
      "text/plain": [
       "   byte symbol  frequency\n",
       "0    32          0.198516\n",
       "1   101      e   0.059533\n",
       "2   115      s   0.038495\n",
       "3   194      Â   0.034089\n",
       "4   114      r   0.033947\n",
       "5    97      a   0.032637\n",
       "6   108      l   0.029093\n",
       "7   116      t   0.027243\n",
       "8   100      d   0.024705\n",
       "9    13     \\r   0.022367"
      ]
     },
     "execution_count": 35,
     "metadata": {},
     "output_type": "execute_result"
    }
   ],
   "source": [
    "# Create dataframe: unused byte list\n",
    "df_ubytes = pd.DataFrame.from_records(term_freq.most_common(max_symbols), columns = ['byte', 'frequency'])\n",
    "df_ubytes['symbol'] = [chr(b) for b in df_ubytes.byte]\n",
    "df_ubytes = df_ubytes[['byte', 'symbol', 'frequency']]\n",
    "df_ubytes.head(10)"
   ]
  },
  {
   "cell_type": "code",
   "execution_count": 36,
   "metadata": {},
   "outputs": [
    {
     "data": {
      "image/png": "[encoded data removed]",
      "text/plain": [
       "<Figure size 1296x432 with 1 Axes>"
      ]
     },
     "metadata": {
      "image/png": {
       "height": 397,
       "width": 1075
      },
      "needs_background": "light"
     },
     "output_type": "display_data"
    }
   ],
   "source": [
    "# Plot the frequency of the bytes in the file\n",
    "fig = plt.figure(figsize = (18, 6))\n",
    "ax = sns.barplot(x = 'byte', y = 'frequency', data = df_ubytes.sort_values(by=['byte']), palette=(\"Greens_d\"))\n",
    "ax.set_xticklabels(labels = get_x_labels(), fontsize = 10, rotation = 50)\n",
    "plt.axhline(y = p_x, color = \"#8b0000\", linestyle = \"--\")\n",
    "plt.title('Bytes Frequency of the Compressed Text File')\n",
    "plt.show()"
   ]
  },
  {
   "cell_type": "markdown",
   "metadata": {},
   "source": [
    "**Note:** The symbol 32 (in decimal) refers to the white space character of the <a href=\"http://www.asciitable.com/\" target=\"_blank\">ASCII</a> table."
   ]
  },
  {
   "cell_type": "markdown",
   "metadata": {},
   "source": [
    "## 2. Decompression and Validation"
   ]
  },
  {
   "cell_type": "code",
   "execution_count": 37,
   "metadata": {},
   "outputs": [
    {
     "name": "stdout",
     "output_type": "stream",
     "text": [
      "Read the following file: ../data/text/book1-en_comp.txt\n"
     ]
    }
   ],
   "source": [
    "# Loading target text book\n",
    "file_text_comp = read_text_file(file_path_comp)"
   ]
  },
  {
   "cell_type": "code",
   "execution_count": 38,
   "metadata": {},
   "outputs": [],
   "source": [
    "# Function that applies a semantic decompression approach\n",
    "def decompress_text(comp_text, codes):\n",
    "    new_text = compress_text(comp_text, codes, False)\n",
    "    return new_text"
   ]
  },
  {
   "cell_type": "code",
   "execution_count": 39,
   "metadata": {},
   "outputs": [],
   "source": [
    "# Decompression\n",
    "file_text2 = decompress_text(file_text_comp, semantic_table)"
   ]
  },
  {
   "cell_type": "code",
   "execution_count": 40,
   "metadata": {},
   "outputs": [
    {
     "name": "stdout",
     "output_type": "stream",
     "text": [
      "Number of characters: 1219570\n"
     ]
    }
   ],
   "source": [
    "# Compressed file\n",
    "print('Number of characters:', len(file_text2))"
   ]
  },
  {
   "cell_type": "markdown",
   "metadata": {},
   "source": [
    "**Validation**"
   ]
  },
  {
   "cell_type": "code",
   "execution_count": 41,
   "metadata": {},
   "outputs": [
    {
     "data": {
      "text/plain": [
       "0"
      ]
     },
     "execution_count": 41,
     "metadata": {},
     "output_type": "execute_result"
    }
   ],
   "source": [
    "# Comparing size\n",
    "len(file_text1) - len(file_text2)"
   ]
  },
  {
   "cell_type": "code",
   "execution_count": 42,
   "metadata": {},
   "outputs": [
    {
     "data": {
      "text/plain": [
       "True"
      ]
     },
     "execution_count": 42,
     "metadata": {},
     "output_type": "execute_result"
    }
   ],
   "source": [
    "# Comparing content\n",
    "file_text1 == file_text2"
   ]
  },
  {
   "cell_type": "markdown",
   "metadata": {},
   "source": [
    "## Reference"
   ]
  },
  {
   "cell_type": "markdown",
   "metadata": {},
   "source": [
    "<a name=\"link_one\" href=\"https://en.wikipedia.org/wiki/Natural_language_processing\" target=\"_blank\">[1]</a> Wikipedia - Natural language processing."
   ]
  },
  {
   "cell_type": "markdown",
   "metadata": {},
   "source": [
    "<hr>\n",
    "<p><a href=\"https://ansegura7.github.io/DataCompression/\">« Home</a></p>"
   ]
  }
 ],
 "metadata": {
  "kernelspec": {
   "display_name": "Python 3",
   "language": "python",
   "name": "python3"
  },
  "language_info": {
   "codemirror_mode": {
    "name": "ipython",
    "version": 3
   },
   "file_extension": ".py",
   "mimetype": "text/x-python",
   "name": "python",
   "nbconvert_exporter": "python",
   "pygments_lexer": "ipython3",
   "version": "3.6.8"
  }
 },
 "nbformat": 4,
 "nbformat_minor": 2
}

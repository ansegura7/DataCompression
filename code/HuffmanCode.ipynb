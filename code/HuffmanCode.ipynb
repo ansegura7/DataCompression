{
 "cells": [
  {
   "cell_type": "markdown",
   "metadata": {},
   "source": [
    "# Huffman Coding"
   ]
  },
  {
   "cell_type": "markdown",
   "metadata": {},
   "source": [
    "- **Created by Andrés Segura Tinoco**  \n",
    "- **Created on June 20, 2019**"
   ]
  },
  {
   "cell_type": "markdown",
   "metadata": {},
   "source": [
    "In computer science and information theory, a **Huffman Code** is a particular type of optimal prefix code that is commonly used for lossless data compression. The output from Huffman's algorithm can be viewed as a variable-length code table for encoding a source symbol (such as a character in a file). The algorithm derives this table from the estimated probability or frequency of occurrence (weight) for each possible value of the source symbol. <a href='#link_one'>[1]</a>"
   ]
  },
  {
   "cell_type": "markdown",
   "metadata": {},
   "source": [
    "## Huffman Code from Scratch"
   ]
  },
  {
   "cell_type": "code",
   "execution_count": 1,
   "metadata": {},
   "outputs": [],
   "source": [
    "# Class HuffmanCode from Scratch\n",
    "class HuffmanCode:\n",
    "    \n",
    "    # Return a Huffman code for an ensemble with distribution p\n",
    "    def get_code(self, p_symbols):\n",
    "        \n",
    "        # Init validation\n",
    "        N = len(p_symbols)\n",
    "        if N == 0:\n",
    "            return dict()\n",
    "        elif N == 1:\n",
    "            return dict(zip(p_symbols.keys(), ['0']))\n",
    "        \n",
    "        # Ensure probabilities sum to 1\n",
    "        self.normalize_weights(p_symbols)\n",
    "        \n",
    "        # Returns Huffman code\n",
    "        return self._get_code(p_symbols);\n",
    "    \n",
    "    # (Private) Calculate Huffman code\n",
    "    def _get_code(self, p):\n",
    "        \n",
    "        # Base case of only two symbols, assign 0 or 1 arbitrarily\n",
    "        if len(p) == 2:\n",
    "            return dict(zip(p.keys(), ['0', '1']))\n",
    "        \n",
    "        # Create a new distribution by merging lowest prob pair\n",
    "        p_prime = p.copy()\n",
    "        s1, s2 = self.lowest_prob_pair(p)\n",
    "        p1, p2 = p_prime.pop(s1), p_prime.pop(s2)\n",
    "        p_prime[s1 + s2] = p1 + p2\n",
    "        \n",
    "        # Recurse and construct code on new distribution\n",
    "        code = self._get_code(p_prime)\n",
    "        s1s2 = code.pop(s1 + s2)\n",
    "        code[s1], code[s2] = s1s2 + '0', s1s2 + '1'\n",
    "        \n",
    "        return code;\n",
    "    \n",
    "    # Return pair of symbols from distribution p with lowest probabilities\n",
    "    def lowest_prob_pair(self, p):\n",
    "        \n",
    "        # Ensure there are at least 2 symbols in the dist.\n",
    "        if len(p) >= 2:\n",
    "            sorted_p = sorted(p.items(), key=lambda x: x[1])\n",
    "            return sorted_p[0][0], sorted_p[1][0];\n",
    "        \n",
    "        return (None, None);\n",
    "    \n",
    "    # Makes sure all weights add up to 1\n",
    "    def normalize_weights(self, p_symbols, t_weight=1.0):\n",
    "        n = sum(p_symbols.values())\n",
    "        \n",
    "        if n != t_weight:\n",
    "            for s in p_symbols:\n",
    "                p_symbols[s] = p_symbols[s] / n;"
   ]
  },
  {
   "cell_type": "markdown",
   "metadata": {},
   "source": [
    "## Example execution"
   ]
  },
  {
   "cell_type": "code",
   "execution_count": 2,
   "metadata": {},
   "outputs": [],
   "source": [
    "# Create Huffman Code instance\n",
    "hc = HuffmanCode()"
   ]
  },
  {
   "cell_type": "code",
   "execution_count": 3,
   "metadata": {},
   "outputs": [
    {
     "data": {
      "text/plain": [
       "{'a': '0'}"
      ]
     },
     "execution_count": 3,
     "metadata": {},
     "output_type": "execute_result"
    }
   ],
   "source": [
    "# Alphabet with 1 symbol\n",
    "sample_1 = { 'a': 1.0 }\n",
    "hc.get_code(sample_1)"
   ]
  },
  {
   "cell_type": "code",
   "execution_count": 4,
   "metadata": {},
   "outputs": [
    {
     "data": {
      "text/plain": [
       "{'a': '0', 'c': '10', 'b': '11'}"
      ]
     },
     "execution_count": 4,
     "metadata": {},
     "output_type": "execute_result"
    }
   ],
   "source": [
    "# Alphabet with 3 symbols and total probability less than 1\n",
    "sample_2 = { 'a': 0.6, 'b': 0.25, 'c': 0.1 }\n",
    "hc.get_code(sample_2)"
   ]
  },
  {
   "cell_type": "code",
   "execution_count": 5,
   "metadata": {},
   "outputs": [
    {
     "data": {
      "text/plain": [
       "{'f': '0', 'e': '111', 'c': '100', 'd': '101', 'a': '1100', 'b': '1101'}"
      ]
     },
     "execution_count": 5,
     "metadata": {},
     "output_type": "execute_result"
    }
   ],
   "source": [
    "# Alphabet with 5 symbols and total probability equal than 1.0\n",
    "sample_3 = { 'a': 0.05, 'b': 0.09, 'c': 0.12, 'd': 0.13, 'e': 0.16, 'f': 0.45 }\n",
    "hc.get_code(sample_3)"
   ]
  },
  {
   "cell_type": "markdown",
   "metadata": {},
   "source": [
    "## Metrics\n",
    "- Time\n",
    "- Size\n",
    "- Distribution type: normal, uniform\n",
    "- Entropy\n",
    "- Parallelism"
   ]
  },
  {
   "cell_type": "markdown",
   "metadata": {},
   "source": [
    "## References"
   ]
  },
  {
   "cell_type": "markdown",
   "metadata": {},
   "source": [
    "<a name='#link_one' href='https://en.wikipedia.org/wiki/Huffman_coding' target='_blank' >[1]</a> Wikipedia - Huffman coding.  "
   ]
  },
  {
   "cell_type": "markdown",
   "metadata": {},
   "source": [
    "<hr>\n",
    "<p><a href=\"https://github.com/ansegura7/Icaro/\">« Home</a></p>"
   ]
  }
 ],
 "metadata": {
  "kernelspec": {
   "display_name": "Python 3",
   "language": "python",
   "name": "python3"
  },
  "language_info": {
   "codemirror_mode": {
    "name": "ipython",
    "version": 3
   },
   "file_extension": ".py",
   "mimetype": "text/x-python",
   "name": "python",
   "nbconvert_exporter": "python",
   "pygments_lexer": "ipython3",
   "version": "3.6.8"
  }
 },
 "nbformat": 4,
 "nbformat_minor": 2
}
